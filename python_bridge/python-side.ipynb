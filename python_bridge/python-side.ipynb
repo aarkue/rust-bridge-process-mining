{
 "cells": [
  {
   "cell_type": "code",
   "execution_count": 1,
   "metadata": {},
   "outputs": [],
   "source": [
    "import rust_bridge_pm_py"
   ]
  },
  {
   "cell_type": "code",
   "execution_count": null,
   "metadata": {},
   "outputs": [],
   "source": [
    "ev = rust_bridge_pm_py.native.PyBridgeEvent(\"Hello123\")"
   ]
  },
  {
   "cell_type": "code",
   "execution_count": null,
   "metadata": {},
   "outputs": [],
   "source": [
    "import pandas as pd\n",
    "def pm4py_log_to_bridge_log(df: pd.DataFrame):\n",
    "  log = rust_bridge_pm_py.native.PyBridgeEventLog()\n",
    "  for trace_id,a in df.groupby(['case:concept:name']):\n",
    "    trace = rust_bridge_pm_py.native.PyBridgeTrace(str(trace_id))\n",
    "    for (label,series) in a.iterrows():\n",
    "      event = rust_bridge_pm_py.native.PyBridgeEvent({k: str(v) for (k,v) in series.to_dict().items()})\n",
    "      trace.append_event(event)\n",
    "    log.append_trace(trace)\n",
    "  return log"
   ]
  },
  {
   "cell_type": "code",
   "execution_count": null,
   "metadata": {},
   "outputs": [],
   "source": [
    "ev.attributes.get(\"concept:name\")"
   ]
  },
  {
   "cell_type": "code",
   "execution_count": null,
   "metadata": {},
   "outputs": [],
   "source": [
    "log = rust_bridge_pm_py.native.PyBridgeEventLog()\n",
    "for i in range(200000):\n",
    "  trace = rust_bridge_pm_py.native.PyBridgeTrace(\"Trace \" + str(i))\n",
    "  for j in range(15):\n",
    "    event = rust_bridge_pm_py.native.PyBridgeEvent(\"Activity \" + str(j))\n",
    "    trace.insert_event(j,event)\n",
    "  log.insert_trace(i,trace)"
   ]
  },
  {
   "cell_type": "code",
   "execution_count": null,
   "metadata": {},
   "outputs": [],
   "source": [
    "res_log = rust_bridge_pm_py.native.test_bridge_log(log)"
   ]
  },
  {
   "cell_type": "code",
   "execution_count": 9,
   "metadata": {},
   "outputs": [],
   "source": [
    "traces = []\n",
    "for trace in log.traces:\n",
    "  events = []\n",
    "  for event in trace.events:\n",
    "    events.append({\"concept:name\": event.attributes.get(\"concept:name\")})\n",
    "  traces.append({\"case:concept:name\": trace.attributes.get(\"case:concept:name\"),\"events\": events})\n"
   ]
  },
  {
   "cell_type": "code",
   "execution_count": 10,
   "metadata": {},
   "outputs": [
    {
     "data": {
      "text/plain": [
       "{'case:concept:name': 'Utf8(\"A1\")',\n",
       " 'events': [<PyBridgeAttributes at 0x7f6bcc793b40>,\n",
       "  <PyBridgeAttributes at 0x7f6bcc792bf0>]}"
      ]
     },
     "execution_count": 10,
     "metadata": {},
     "output_type": "execute_result"
    }
   ],
   "source": [
    "traces[0]"
   ]
  },
  {
   "cell_type": "code",
   "execution_count": null,
   "metadata": {},
   "outputs": [],
   "source": [
    "traces[0]['events'][10]"
   ]
  },
  {
   "cell_type": "code",
   "execution_count": null,
   "metadata": {},
   "outputs": [],
   "source": [
    "trace = rust_bridge_pm_py.native.PyBridgeTrace(\"trace1\")\n",
    "trace"
   ]
  },
  {
   "cell_type": "code",
   "execution_count": null,
   "metadata": {},
   "outputs": [],
   "source": [
    "log.traces"
   ]
  },
  {
   "cell_type": "code",
   "execution_count": null,
   "metadata": {},
   "outputs": [],
   "source": [
    "log.traces[0].attributes.get(\"case:concept:name\")"
   ]
  },
  {
   "cell_type": "code",
   "execution_count": null,
   "metadata": {},
   "outputs": [],
   "source": [
    "log.insert_trace(0,trace)\n",
    "log.traces"
   ]
  },
  {
   "cell_type": "code",
   "execution_count": null,
   "metadata": {},
   "outputs": [],
   "source": [
    "dir(log_df.groupby(['case:concept:name']))"
   ]
  },
  {
   "cell_type": "code",
   "execution_count": null,
   "metadata": {},
   "outputs": [],
   "source": [
    "rust_bridge_pm_py.native.test_pandas_df(log_df)"
   ]
  },
  {
   "cell_type": "code",
   "execution_count": 2,
   "metadata": {},
   "outputs": [
    {
     "name": "stderr",
     "output_type": "stream",
     "text": [
      "/home/aarkue/doc/projects/rust-bridge-process-mining/python_bridge/.env/lib/python3.11/site-packages/tqdm/auto.py:21: TqdmWarning: IProgress not found. Please update jupyter and ipywidgets. See https://ipywidgets.readthedocs.io/en/stable/user_install.html\n",
      "  from .autonotebook import tqdm as notebook_tqdm\n",
      "parsing log, completed traces :: 100%|██████████| 150370/150370 [00:15<00:00, 9997.50it/s] \n",
      "/home/aarkue/doc/projects/rust-bridge-process-mining/python_bridge/.env/lib/python3.11/site-packages/pm4py/objects/log/util/dataframe_utils.py:176: UserWarning: Could not infer format, so each element will be parsed individually, falling back to `dateutil`. To ensure parsing is consistent and as-expected, please specify a format.\n",
      "  df[col] = pd.to_datetime(df[col], utc=True)\n",
      "/home/aarkue/doc/projects/rust-bridge-process-mining/python_bridge/.env/lib/python3.11/site-packages/pm4py/objects/log/util/dataframe_utils.py:176: UserWarning: Could not infer format, so each element will be parsed individually, falling back to `dateutil`. To ensure parsing is consistent and as-expected, please specify a format.\n",
      "  df[col] = pd.to_datetime(df[col], utc=True)\n",
      "/home/aarkue/doc/projects/rust-bridge-process-mining/python_bridge/.env/lib/python3.11/site-packages/pm4py/objects/log/util/dataframe_utils.py:176: UserWarning: Could not infer format, so each element will be parsed individually, falling back to `dateutil`. To ensure parsing is consistent and as-expected, please specify a format.\n",
      "  df[col] = pd.to_datetime(df[col], utc=True)\n",
      "/home/aarkue/doc/projects/rust-bridge-process-mining/python_bridge/.env/lib/python3.11/site-packages/pm4py/objects/log/util/dataframe_utils.py:176: UserWarning: Could not infer format, so each element will be parsed individually, falling back to `dateutil`. To ensure parsing is consistent and as-expected, please specify a format.\n",
      "  df[col] = pd.to_datetime(df[col], utc=True)\n",
      "/home/aarkue/doc/projects/rust-bridge-process-mining/python_bridge/.env/lib/python3.11/site-packages/pm4py/objects/log/util/dataframe_utils.py:176: UserWarning: Could not infer format, so each element will be parsed individually, falling back to `dateutil`. To ensure parsing is consistent and as-expected, please specify a format.\n",
      "  df[col] = pd.to_datetime(df[col], utc=True)\n",
      "/home/aarkue/doc/projects/rust-bridge-process-mining/python_bridge/.env/lib/python3.11/site-packages/pm4py/objects/log/util/dataframe_utils.py:176: UserWarning: Could not infer format, so each element will be parsed individually, falling back to `dateutil`. To ensure parsing is consistent and as-expected, please specify a format.\n",
      "  df[col] = pd.to_datetime(df[col], utc=True)\n",
      "/home/aarkue/doc/projects/rust-bridge-process-mining/python_bridge/.env/lib/python3.11/site-packages/pm4py/objects/log/util/dataframe_utils.py:176: UserWarning: Could not infer format, so each element will be parsed individually, falling back to `dateutil`. To ensure parsing is consistent and as-expected, please specify a format.\n",
      "  df[col] = pd.to_datetime(df[col], utc=True)\n"
     ]
    }
   ],
   "source": [
    "import pm4py\n",
    "import polars\n",
    "log_df = pm4py.read_xes(\"/home/aarkue/doc/sciebo/alpha-revisit/Road_Traffic_Fine_Management_Process.xes.gz\")"
   ]
  },
  {
   "cell_type": "code",
   "execution_count": null,
   "metadata": {},
   "outputs": [],
   "source": [
    "rust_bridge_pm_py.native.test_df(log_df)"
   ]
  },
  {
   "cell_type": "code",
   "execution_count": null,
   "metadata": {},
   "outputs": [],
   "source": [
    "pm4py_log_to_bridge_log(log_df)"
   ]
  },
  {
   "cell_type": "code",
   "execution_count": null,
   "metadata": {},
   "outputs": [],
   "source": [
    "res_log = rust_bridge_pm_py.native.test_bridge_log(pm4py_log_to_bridge_log(log_df))"
   ]
  },
  {
   "cell_type": "code",
   "execution_count": 3,
   "metadata": {},
   "outputs": [
    {
     "name": "stdout",
     "output_type": "stream",
     "text": [
      "Hi\n"
     ]
    }
   ],
   "source": [
    "log = rust_bridge_pm_py.native.polars_df_to_log(polars.from_pandas(log_df))"
   ]
  },
  {
   "cell_type": "code",
   "execution_count": null,
   "metadata": {},
   "outputs": [],
   "source": [
    "log.traces[0].events[1].attributes.get(\"concept:name\")"
   ]
  },
  {
   "cell_type": "code",
   "execution_count": null,
   "metadata": {},
   "outputs": [],
   "source": [
    "l = rust_bridge_pm_py.event_log.py_test_event_log()"
   ]
  },
  {
   "cell_type": "code",
   "execution_count": 7,
   "metadata": {},
   "outputs": [
    {
     "data": {
      "text/html": [
       "<div>\n",
       "<style scoped>\n",
       "    .dataframe tbody tr th:only-of-type {\n",
       "        vertical-align: middle;\n",
       "    }\n",
       "\n",
       "    .dataframe tbody tr th {\n",
       "        vertical-align: top;\n",
       "    }\n",
       "\n",
       "    .dataframe thead th {\n",
       "        text-align: right;\n",
       "    }\n",
       "</style>\n",
       "<table border=\"1\" class=\"dataframe\">\n",
       "  <thead>\n",
       "    <tr style=\"text-align: right;\">\n",
       "      <th></th>\n",
       "      <th>amount</th>\n",
       "      <th>org:resource</th>\n",
       "      <th>dismissal</th>\n",
       "      <th>concept:name</th>\n",
       "      <th>vehicleClass</th>\n",
       "      <th>totalPaymentAmount</th>\n",
       "      <th>lifecycle:transition</th>\n",
       "      <th>time:timestamp</th>\n",
       "      <th>article</th>\n",
       "      <th>points</th>\n",
       "      <th>case:concept:name</th>\n",
       "      <th>expense</th>\n",
       "      <th>notificationType</th>\n",
       "      <th>lastSent</th>\n",
       "      <th>paymentAmount</th>\n",
       "      <th>matricola</th>\n",
       "    </tr>\n",
       "  </thead>\n",
       "  <tbody>\n",
       "    <tr>\n",
       "      <th>0</th>\n",
       "      <td>35.0</td>\n",
       "      <td>561</td>\n",
       "      <td>NIL</td>\n",
       "      <td>Create Fine</td>\n",
       "      <td>A</td>\n",
       "      <td>0.0</td>\n",
       "      <td>complete</td>\n",
       "      <td>2006-07-23 22:00:00+00:00</td>\n",
       "      <td>157.0</td>\n",
       "      <td>0.0</td>\n",
       "      <td>A1</td>\n",
       "      <td>NaN</td>\n",
       "      <td>NaN</td>\n",
       "      <td>NaN</td>\n",
       "      <td>NaN</td>\n",
       "      <td>NaN</td>\n",
       "    </tr>\n",
       "    <tr>\n",
       "      <th>1</th>\n",
       "      <td>NaN</td>\n",
       "      <td>NaN</td>\n",
       "      <td>NaN</td>\n",
       "      <td>Send Fine</td>\n",
       "      <td>NaN</td>\n",
       "      <td>NaN</td>\n",
       "      <td>complete</td>\n",
       "      <td>2006-12-04 23:00:00+00:00</td>\n",
       "      <td>NaN</td>\n",
       "      <td>NaN</td>\n",
       "      <td>A1</td>\n",
       "      <td>11.00</td>\n",
       "      <td>NaN</td>\n",
       "      <td>NaN</td>\n",
       "      <td>NaN</td>\n",
       "      <td>NaN</td>\n",
       "    </tr>\n",
       "    <tr>\n",
       "      <th>2</th>\n",
       "      <td>35.0</td>\n",
       "      <td>561</td>\n",
       "      <td>NIL</td>\n",
       "      <td>Create Fine</td>\n",
       "      <td>A</td>\n",
       "      <td>0.0</td>\n",
       "      <td>complete</td>\n",
       "      <td>2006-08-01 22:00:00+00:00</td>\n",
       "      <td>157.0</td>\n",
       "      <td>0.0</td>\n",
       "      <td>A100</td>\n",
       "      <td>NaN</td>\n",
       "      <td>NaN</td>\n",
       "      <td>NaN</td>\n",
       "      <td>NaN</td>\n",
       "      <td>NaN</td>\n",
       "    </tr>\n",
       "    <tr>\n",
       "      <th>3</th>\n",
       "      <td>NaN</td>\n",
       "      <td>NaN</td>\n",
       "      <td>NaN</td>\n",
       "      <td>Send Fine</td>\n",
       "      <td>NaN</td>\n",
       "      <td>NaN</td>\n",
       "      <td>complete</td>\n",
       "      <td>2006-12-11 23:00:00+00:00</td>\n",
       "      <td>NaN</td>\n",
       "      <td>NaN</td>\n",
       "      <td>A100</td>\n",
       "      <td>11.00</td>\n",
       "      <td>NaN</td>\n",
       "      <td>NaN</td>\n",
       "      <td>NaN</td>\n",
       "      <td>NaN</td>\n",
       "    </tr>\n",
       "    <tr>\n",
       "      <th>4</th>\n",
       "      <td>NaN</td>\n",
       "      <td>NaN</td>\n",
       "      <td>NaN</td>\n",
       "      <td>Insert Fine Notification</td>\n",
       "      <td>NaN</td>\n",
       "      <td>NaN</td>\n",
       "      <td>complete</td>\n",
       "      <td>2007-01-14 23:00:00+00:00</td>\n",
       "      <td>NaN</td>\n",
       "      <td>NaN</td>\n",
       "      <td>A100</td>\n",
       "      <td>NaN</td>\n",
       "      <td>P</td>\n",
       "      <td>P</td>\n",
       "      <td>NaN</td>\n",
       "      <td>NaN</td>\n",
       "    </tr>\n",
       "    <tr>\n",
       "      <th>...</th>\n",
       "      <td>...</td>\n",
       "      <td>...</td>\n",
       "      <td>...</td>\n",
       "      <td>...</td>\n",
       "      <td>...</td>\n",
       "      <td>...</td>\n",
       "      <td>...</td>\n",
       "      <td>...</td>\n",
       "      <td>...</td>\n",
       "      <td>...</td>\n",
       "      <td>...</td>\n",
       "      <td>...</td>\n",
       "      <td>...</td>\n",
       "      <td>...</td>\n",
       "      <td>...</td>\n",
       "      <td>...</td>\n",
       "    </tr>\n",
       "    <tr>\n",
       "      <th>561465</th>\n",
       "      <td>131.0</td>\n",
       "      <td>25</td>\n",
       "      <td>NIL</td>\n",
       "      <td>Create Fine</td>\n",
       "      <td>A</td>\n",
       "      <td>0.0</td>\n",
       "      <td>complete</td>\n",
       "      <td>2002-09-06 22:00:00+00:00</td>\n",
       "      <td>142.0</td>\n",
       "      <td>0.0</td>\n",
       "      <td>V9999</td>\n",
       "      <td>NaN</td>\n",
       "      <td>NaN</td>\n",
       "      <td>NaN</td>\n",
       "      <td>NaN</td>\n",
       "      <td>NaN</td>\n",
       "    </tr>\n",
       "    <tr>\n",
       "      <th>561466</th>\n",
       "      <td>NaN</td>\n",
       "      <td>NaN</td>\n",
       "      <td>NaN</td>\n",
       "      <td>Send Fine</td>\n",
       "      <td>NaN</td>\n",
       "      <td>NaN</td>\n",
       "      <td>complete</td>\n",
       "      <td>2002-10-24 22:00:00+00:00</td>\n",
       "      <td>NaN</td>\n",
       "      <td>NaN</td>\n",
       "      <td>V9999</td>\n",
       "      <td>15.16</td>\n",
       "      <td>NaN</td>\n",
       "      <td>NaN</td>\n",
       "      <td>NaN</td>\n",
       "      <td>NaN</td>\n",
       "    </tr>\n",
       "    <tr>\n",
       "      <th>561467</th>\n",
       "      <td>NaN</td>\n",
       "      <td>NaN</td>\n",
       "      <td>NaN</td>\n",
       "      <td>Insert Fine Notification</td>\n",
       "      <td>NaN</td>\n",
       "      <td>NaN</td>\n",
       "      <td>complete</td>\n",
       "      <td>2002-11-03 23:00:00+00:00</td>\n",
       "      <td>NaN</td>\n",
       "      <td>NaN</td>\n",
       "      <td>V9999</td>\n",
       "      <td>NaN</td>\n",
       "      <td>P</td>\n",
       "      <td>N</td>\n",
       "      <td>NaN</td>\n",
       "      <td>NaN</td>\n",
       "    </tr>\n",
       "    <tr>\n",
       "      <th>561468</th>\n",
       "      <td>262.0</td>\n",
       "      <td>NaN</td>\n",
       "      <td>NaN</td>\n",
       "      <td>Add penalty</td>\n",
       "      <td>NaN</td>\n",
       "      <td>NaN</td>\n",
       "      <td>complete</td>\n",
       "      <td>2003-01-02 23:00:00+00:00</td>\n",
       "      <td>NaN</td>\n",
       "      <td>NaN</td>\n",
       "      <td>V9999</td>\n",
       "      <td>NaN</td>\n",
       "      <td>NaN</td>\n",
       "      <td>NaN</td>\n",
       "      <td>NaN</td>\n",
       "      <td>NaN</td>\n",
       "    </tr>\n",
       "    <tr>\n",
       "      <th>561469</th>\n",
       "      <td>NaN</td>\n",
       "      <td>NaN</td>\n",
       "      <td>NaN</td>\n",
       "      <td>Send for Credit Collection</td>\n",
       "      <td>NaN</td>\n",
       "      <td>NaN</td>\n",
       "      <td>complete</td>\n",
       "      <td>2004-01-09 23:00:00+00:00</td>\n",
       "      <td>NaN</td>\n",
       "      <td>NaN</td>\n",
       "      <td>V9999</td>\n",
       "      <td>NaN</td>\n",
       "      <td>NaN</td>\n",
       "      <td>NaN</td>\n",
       "      <td>NaN</td>\n",
       "      <td>NaN</td>\n",
       "    </tr>\n",
       "  </tbody>\n",
       "</table>\n",
       "<p>561470 rows × 16 columns</p>\n",
       "</div>"
      ],
      "text/plain": [
       "        amount org:resource dismissal                concept:name  \\\n",
       "0         35.0          561       NIL                 Create Fine   \n",
       "1          NaN          NaN       NaN                   Send Fine   \n",
       "2         35.0          561       NIL                 Create Fine   \n",
       "3          NaN          NaN       NaN                   Send Fine   \n",
       "4          NaN          NaN       NaN    Insert Fine Notification   \n",
       "...        ...          ...       ...                         ...   \n",
       "561465   131.0           25       NIL                 Create Fine   \n",
       "561466     NaN          NaN       NaN                   Send Fine   \n",
       "561467     NaN          NaN       NaN    Insert Fine Notification   \n",
       "561468   262.0          NaN       NaN                 Add penalty   \n",
       "561469     NaN          NaN       NaN  Send for Credit Collection   \n",
       "\n",
       "       vehicleClass  totalPaymentAmount lifecycle:transition  \\\n",
       "0                 A                 0.0             complete   \n",
       "1               NaN                 NaN             complete   \n",
       "2                 A                 0.0             complete   \n",
       "3               NaN                 NaN             complete   \n",
       "4               NaN                 NaN             complete   \n",
       "...             ...                 ...                  ...   \n",
       "561465            A                 0.0             complete   \n",
       "561466          NaN                 NaN             complete   \n",
       "561467          NaN                 NaN             complete   \n",
       "561468          NaN                 NaN             complete   \n",
       "561469          NaN                 NaN             complete   \n",
       "\n",
       "                  time:timestamp  article  points case:concept:name  expense  \\\n",
       "0      2006-07-23 22:00:00+00:00    157.0     0.0                A1      NaN   \n",
       "1      2006-12-04 23:00:00+00:00      NaN     NaN                A1    11.00   \n",
       "2      2006-08-01 22:00:00+00:00    157.0     0.0              A100      NaN   \n",
       "3      2006-12-11 23:00:00+00:00      NaN     NaN              A100    11.00   \n",
       "4      2007-01-14 23:00:00+00:00      NaN     NaN              A100      NaN   \n",
       "...                          ...      ...     ...               ...      ...   \n",
       "561465 2002-09-06 22:00:00+00:00    142.0     0.0             V9999      NaN   \n",
       "561466 2002-10-24 22:00:00+00:00      NaN     NaN             V9999    15.16   \n",
       "561467 2002-11-03 23:00:00+00:00      NaN     NaN             V9999      NaN   \n",
       "561468 2003-01-02 23:00:00+00:00      NaN     NaN             V9999      NaN   \n",
       "561469 2004-01-09 23:00:00+00:00      NaN     NaN             V9999      NaN   \n",
       "\n",
       "       notificationType lastSent  paymentAmount  matricola  \n",
       "0                   NaN      NaN            NaN        NaN  \n",
       "1                   NaN      NaN            NaN        NaN  \n",
       "2                   NaN      NaN            NaN        NaN  \n",
       "3                   NaN      NaN            NaN        NaN  \n",
       "4                     P        P            NaN        NaN  \n",
       "...                 ...      ...            ...        ...  \n",
       "561465              NaN      NaN            NaN        NaN  \n",
       "561466              NaN      NaN            NaN        NaN  \n",
       "561467                P        N            NaN        NaN  \n",
       "561468              NaN      NaN            NaN        NaN  \n",
       "561469              NaN      NaN            NaN        NaN  \n",
       "\n",
       "[561470 rows x 16 columns]"
      ]
     },
     "execution_count": 7,
     "metadata": {},
     "output_type": "execute_result"
    }
   ],
   "source": [
    "log_df"
   ]
  },
  {
   "cell_type": "code",
   "execution_count": null,
   "metadata": {},
   "outputs": [],
   "source": []
  },
  {
   "cell_type": "code",
   "execution_count": null,
   "metadata": {},
   "outputs": [],
   "source": []
  },
  {
   "cell_type": "code",
   "execution_count": null,
   "metadata": {},
   "outputs": [],
   "source": [
    "res_log.traces[34].events[1].attributes.get(\"concept:name\")"
   ]
  },
  {
   "cell_type": "code",
   "execution_count": null,
   "metadata": {},
   "outputs": [],
   "source": [
    "traces"
   ]
  }
 ],
 "metadata": {
  "kernelspec": {
   "display_name": ".env",
   "language": "python",
   "name": "python3"
  },
  "language_info": {
   "codemirror_mode": {
    "name": "ipython",
    "version": 3
   },
   "file_extension": ".py",
   "mimetype": "text/x-python",
   "name": "python",
   "nbconvert_exporter": "python",
   "pygments_lexer": "ipython3",
   "version": "3.11.3"
  },
  "orig_nbformat": 4
 },
 "nbformat": 4,
 "nbformat_minor": 2
}
