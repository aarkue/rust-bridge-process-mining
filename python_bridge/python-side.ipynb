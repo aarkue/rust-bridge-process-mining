{
 "cells": [
  {
   "cell_type": "code",
   "execution_count": null,
   "metadata": {},
   "outputs": [],
   "source": [
    "import pm4py\n",
    "import polars\n",
    "import rust_bridge_pm_py"
   ]
  },
  {
   "cell_type": "code",
   "execution_count": null,
   "metadata": {},
   "outputs": [],
   "source": [
    "\n",
    "FIGURE_PATH = \"./figures/\"\n",
    "EVENT_LOGS_PATH = \"/home/aarkue/doc/sciebo/alpha-revisit/\"\n",
    "log_to_path = {\n",
    "    \"BPI_Challenge_2020_DomesticDeclarations\": f\"{EVENT_LOGS_PATH}DomesticDeclarations.xes.gz\",\n",
    "    \"BPI_Challenge_2020\": f\"{EVENT_LOGS_PATH}BPI_Challenge_2020_request_for_payments.xes\",\n",
    "    \"BPI_Challenge_2019_sampled_3000cases\": f\"{EVENT_LOGS_PATH}BPI_Challenge_2019_sampled3000.xes\",\n",
    "    \"Sepsis\": f\"{EVENT_LOGS_PATH}Sepsis Cases - Event Log.xes.gz\",\n",
    "    \"RTFM\": f\"{EVENT_LOGS_PATH}Road_Traffic_Fine_Management_Process.xes.gz\",\n",
    "}\n",
    "\n"
   ]
  },
  {
   "cell_type": "code",
   "execution_count": null,
   "metadata": {},
   "outputs": [],
   "source": [
    "xes_path = log_to_path[\"RTFM\"]"
   ]
  },
  {
   "cell_type": "code",
   "execution_count": null,
   "metadata": {},
   "outputs": [],
   "source": [
    "# Read some event log\n",
    "log_df = pm4py.read_xes(xes_path,variant=\"line_by_line\")"
   ]
  },
  {
   "cell_type": "code",
   "execution_count": null,
   "metadata": {},
   "outputs": [],
   "source": [
    "res_log = rust_bridge_pm_py.import_xes(xes_path)[0]"
   ]
  },
  {
   "cell_type": "code",
   "execution_count": null,
   "metadata": {},
   "outputs": [],
   "source": [
    "# Sepsis_model_α+++|2.0|b0.3|t0.7|r0.6_2023-04-02T22:58:35.500530.pnml\n",
    "import json\n",
    "from rust_bridge_pm_py import petri_net\n",
    "config = {\n",
    "  \"balance_thresh\": 0.5,\n",
    "  \"fitness_thresh\": 0.5,\n",
    "  \"replay_thresh\": 0.5,\n",
    "  \"log_repair_skip_df_thresh_rel\": 4.0,\n",
    "  \"log_repair_loop_df_thresh_rel\": 4.0,\n",
    "  \"absolute_df_clean_thresh\": 1,\n",
    "  \"relative_df_clean_thresh\": 0.01,\n",
    "}\n",
    "(rust_net_json,algo_performance) = rust_bridge_pm_py.native.discover_net_alphappp(res_log,json.dumps(config))\n",
    "rust_net = petri_net.dict_to_petrinet(json.loads(rust_net_json))\n",
    "pm4py.view_petri_net(*rust_net)"
   ]
  }
 ],
 "metadata": {
  "kernelspec": {
   "display_name": ".env",
   "language": "python",
   "name": "python3"
  },
  "language_info": {
   "codemirror_mode": {
    "name": "ipython",
    "version": 3
   },
   "file_extension": ".py",
   "mimetype": "text/x-python",
   "name": "python",
   "nbconvert_exporter": "python",
   "pygments_lexer": "ipython3",
   "version": "3.11.6"
  },
  "orig_nbformat": 4
 },
 "nbformat": 4,
 "nbformat_minor": 2
}
