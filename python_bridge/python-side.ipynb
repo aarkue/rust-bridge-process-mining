{
 "cells": [
  {
   "cell_type": "code",
   "execution_count": null,
   "metadata": {},
   "outputs": [],
   "source": [
    "import rust_bridge_pm_py"
   ]
  },
  {
   "cell_type": "code",
   "execution_count": null,
   "metadata": {},
   "outputs": [],
   "source": [
    "# Python-side PyBridgeEventLog construction: Slow!\n",
    "import pandas as pd\n",
    "def pm4py_log_to_bridge_log(df: pd.DataFrame):\n",
    "  log = rust_bridge_pm_py.native.PyBridgeEventLog()\n",
    "  for trace_id,a in df.groupby(['case:concept:name']):\n",
    "    trace = rust_bridge_pm_py.native.PyBridgeTrace(str(trace_id))\n",
    "    for (label,series) in a.iterrows():\n",
    "      event = rust_bridge_pm_py.native.PyBridgeEvent({k: str(v) for (k,v) in series.to_dict().items()})\n",
    "      trace.append_event(event)\n",
    "    log.append_trace(trace)\n",
    "  return log"
   ]
  },
  {
   "cell_type": "code",
   "execution_count": null,
   "metadata": {},
   "outputs": [],
   "source": [
    "# Generate huge event log (on Python side, but structs reside in Rust!)\n",
    "log = rust_bridge_pm_py.native.PyBridgeEventLog()\n",
    "for i in range(200000):\n",
    "  trace = rust_bridge_pm_py.native.PyBridgeTrace(\"Trace \" + str(i))\n",
    "  for j in range(15):\n",
    "    event = rust_bridge_pm_py.native.PyBridgeEvent({\"concept:name\": \"Activity \" + str(j)})\n",
    "    trace.insert_event(j,event)\n",
    "  log.insert_trace(i,trace)"
   ]
  },
  {
   "cell_type": "code",
   "execution_count": null,
   "metadata": {},
   "outputs": [],
   "source": [
    "# Sample call: Add artificial start and end activities to every trace\n",
    "res_log = rust_bridge_pm_py.native.test_bridge_log(log)\n",
    "assert res_log.traces[0].events[0].attributes.get(\"concept:name\") == \"__START__\"\n",
    "assert res_log.traces[0].events[-1].attributes.get(\"concept:name\") == \"__END__\""
   ]
  },
  {
   "cell_type": "code",
   "execution_count": null,
   "metadata": {},
   "outputs": [],
   "source": [
    "# Transform PyBridgeEventLog to dict (only keeping activity names + case id)\n",
    "traces = []\n",
    "for trace in log.traces:\n",
    "  events = []\n",
    "  for event in trace.events:\n",
    "    events.append({\"concept:name\": event.attributes.get(\"concept:name\")})\n",
    "  traces.append({\"case:concept:name\": trace.attributes.get(\"case:concept:name\"),\"events\": events})\n"
   ]
  },
  {
   "cell_type": "code",
   "execution_count": null,
   "metadata": {},
   "outputs": [],
   "source": [
    "import pm4py\n",
    "import polars\n",
    "# Read some event log\n",
    "log_df = pm4py.read_xes(\"../../../../dow/event_logs/Sepsis Cases - Event Log.xes.gz\")"
   ]
  },
  {
   "cell_type": "code",
   "execution_count": null,
   "metadata": {},
   "outputs": [],
   "source": [
    "# First convert DF log to PyBridgeEventLog Wrapper and then add start/end acts.\n",
    "# Result is again a PyBridgeEventLog Wrapper \n",
    "# Performance: Okay for smallish/normal logs but poor for very large ones\n",
    "res_log = rust_bridge_pm_py.native.test_bridge_log(pm4py_log_to_bridge_log(log_df))"
   ]
  },
  {
   "cell_type": "code",
   "execution_count": null,
   "metadata": {},
   "outputs": [],
   "source": [
    "# Idea: Do not require Polar dependency on python side, by exporting JSON with pandas\n",
    "# and then importing it using Polar on the Rust side\n",
    "log = rust_bridge_pm_py.native.test_df_pandas(log_df.to_json(orient=\"records\"))"
   ]
  },
  {
   "cell_type": "code",
   "execution_count": null,
   "metadata": {},
   "outputs": [],
   "source": [
    "# Idea: Do DataFrame -> Wrapper conversion on Rust side (+ in parallel)\n",
    "# For that, polars is used (because of the first-class Rust support)\n",
    "# First, convert log (pandas) DF to polars DF and then convert it to PyBridgeEventLog Wrapper in Rust, return Result \n",
    "# Performance: Pretty good :) \n",
    "log = rust_bridge_pm_py.native.polars_df_to_log(polars.from_pandas(log_df))"
   ]
  },
  {
   "cell_type": "code",
   "execution_count": null,
   "metadata": {},
   "outputs": [],
   "source": [
    "# Create huge event log & process it in Rust\n",
    "# For conversion, use json bytes (using orjson library)\n",
    "# Not great performance...\n",
    "# Total: 15308.481216430664ms; Json Dump & Log Re-construction from Dict takes the most time\n",
    "# This prompted the experimentation with PyBridgeEventLog Wrapper, living in Rust\n",
    "l = rust_bridge_pm_py.event_log.py_test_event_log()"
   ]
  }
 ],
 "metadata": {
  "kernelspec": {
   "display_name": ".env",
   "language": "python",
   "name": "python3"
  },
  "language_info": {
   "codemirror_mode": {
    "name": "ipython",
    "version": 3
   },
   "file_extension": ".py",
   "mimetype": "text/x-python",
   "name": "python",
   "nbconvert_exporter": "python",
   "pygments_lexer": "ipython3",
   "version": "3.11.3"
  },
  "orig_nbformat": 4
 },
 "nbformat": 4,
 "nbformat_minor": 2
}
